{
 "cells": [
  {
   "cell_type": "markdown",
   "metadata": {},
   "source": [
    "# Solving the Finite Symmetric Well using the Shooting Method\n",
    "### Erik S. Sorensen, Physics & Astronomy, McMaster University,  October 2, 2019\n",
    "#### Last Edit: Pat Clancy - October 13, 2023"
   ]
  },
  {
   "cell_type": "markdown",
   "metadata": {},
   "source": [
    "In this notebook we will be solving the **finite** symmetric well using the shooting method. This is just a minor modification of the method we used to study the **infinite** potential well in Exercise 1. That is, we shall be looking for solutions to the **stationary** Schr&ouml;dinger equation. The potential does not need to be a square well but it is crucial that it is *symmetric*. To make the potential symmetric we define the potential from $-a$ to $a$. Outside this range we assume the potential is **zero**. Furthermore we shall take $\\hbar=m=1$. Let's begin by importing some things we need."
   ]
  },
  {
   "cell_type": "code",
   "execution_count": 33,
   "metadata": {
    "ExecuteTime": {
     "end_time": "2023-10-24T00:05:03.360120Z",
     "start_time": "2023-10-24T00:05:03.324452Z"
    }
   },
   "outputs": [],
   "source": [
    "import scipy.integrate\n",
    "from pylab import *\n",
    "from scipy.integrate import odeint\n",
    "from scipy.integrate import quad\n",
    "from scipy.optimize import brentq\n",
    "import matplotlib.pyplot as plt\n",
    "import numpy as np"
   ]
  },
  {
   "cell_type": "markdown",
   "metadata": {},
   "source": [
    "Now let's define the potential of our well. **Outside** the well set the potential to 0 while **inside** we set it to $V_0$ (for now) which we will define later. The potential well is therefore *finite*, unlike the case of the infinite well where we set the potential to a very large value outside the well. \n",
    "\n",
    "__ACTION__: Fill in the code below to set up an appropriate function for the potential using the *if* and *else* commands:"
   ]
  },
  {
   "cell_type": "code",
   "execution_count": 34,
   "metadata": {
    "ExecuteTime": {
     "end_time": "2023-10-24T00:05:03.361424Z",
     "start_time": "2023-10-24T00:05:03.328514Z"
    }
   },
   "outputs": [],
   "source": [
    "def V(x):\n",
    "    global a \n",
    "    \n",
    "    if abs(x) > a:\n",
    "        return 0\n",
    "    else:\n",
    "        return V0\n",
    "    \n",
    "    "
   ]
  },
  {
   "cell_type": "markdown",
   "metadata": {},
   "source": [
    "We will be using the same dual array method that we employed for the infinite well. Therefore, we can use the same D1D2 function that you came across in the last notebook. This function assumes that the value of $E$ is defined elsewhere and it looks as follows:"
   ]
  },
  {
   "cell_type": "code",
   "execution_count": 35,
   "metadata": {
    "ExecuteTime": {
     "end_time": "2023-10-24T00:05:03.361795Z",
     "start_time": "2023-10-24T00:05:03.331860Z"
    }
   },
   "outputs": [],
   "source": [
    "def D1D2(psi, x):\n",
    "    D1 = psi[1]\n",
    "    D2 = 2.0*(V(x) - E)*psi[0]\n",
    "    return array([D1, D2])"
   ]
  },
  {
   "cell_type": "markdown",
   "metadata": {},
   "source": [
    "We use the same method for integrating as we did for the Infinite Well. That is, we need a function that can integrate $\\psi(x)$ and $\\psi'(x)$ as 2 first order equations given some initial guess at a left-most point $x_{left}$. The routine will integrate from the left to the right-most end point $x_{right}$.  Python has utilities for doing this and the one we shall be using is called odeint from a module called scipy. We set it up so that if the function is given a value of $E$ it will return a single value which is $\\psi(x_{right})$, where $x_{right}$ is the right-most end point of the integration. Later we shall specify what $x_{right}$ is. The python way of getting the right-most value of an [N,2] array is psi[-1,0], where the negative value means counting from the end. As mentioned, psi[:,0] contains the values of $\\psi(x)$ and psi[:,1] contains the values of $\\psi'(x)$.\n",
    "\n",
    "**There is a new feature here** compared to what we did for the Infinite Well and that is a normalization of the result. We assume that we only calculate *half* of the wave-function (the 'left' side of it), and if we are going to sum the squares of that we need to multiply by 2 to get the entire integral of the square of the wavefunction. Since we square the wavefunction it does not matter if it is even or odd. Note that we normalize both the $\\psi(x)$ and $\\psi'(x)$."
   ]
  },
  {
   "cell_type": "code",
   "execution_count": 36,
   "metadata": {
    "ExecuteTime": {
     "end_time": "2023-10-24T00:05:03.387268Z",
     "start_time": "2023-10-24T00:05:03.335975Z"
    }
   },
   "outputs": [],
   "source": [
    "def Wave_function(energy):\n",
    "    global psi\n",
    "    global E\n",
    "    E = energy                #We need this so as to pass it to DD\n",
    "    psi = odeint(D1D2, psi0, x)\n",
    "    psi = psi/sqrt(h*2.*np.sum(np.square(psi[:,0])))\n",
    "    return psi[-1,0]"
   ]
  },
  {
   "cell_type": "markdown",
   "metadata": {},
   "source": [
    "### The shooting method"
   ]
  },
  {
   "cell_type": "markdown",
   "metadata": {},
   "source": [
    "As in Exercise 1, the shooting method is pretty straightforward. First we guess an energy $E$. Then we integrate from **outside** the left wall of the well, $x_{left}=-b$, where we can assume that $\\psi(x_{left}=-b)=0$ and $\\psi'(x_{left}=-b)\\neq 0$. We integrate up to $x_{right}=0$ (the mid-point of the well) and if the integrated function $\\psi(x=0)=0$ then we guessed right and the energy $E$ is a solution. Note that this **only** works because the well is symmetric around zero, which means that the solutions, $\\psi(x)$, will be either even or odd functions. If we require $\\psi(x=0)=0$ we obtain the odd solutions. If instead we want the even solutions then we should require $\\psi'(x=0)=0$.\n",
    "\n",
    "The second fact that we need is that each subsequent solution will have **one more node**. This means that if we plot $\\psi(x=0)$ (or $\\psi'(x=0)$) **as a function of** $E$ it will change sign every time we have an energy $E$ that is a solution. Let's see how that works: We set up the calculation by taking a number of discrete points on the x-axis and a number of discrete values of $E$, stored in *en*, between $E_{bottom}$ and $E_{max}$. This sets the energy interval where we shall be looking for solutions. Note that we do not allow $E_{max}$ to go all the way up to the rim of the potential at $0$ since we cannot handle scattering states with this approach. We start by focusing on the odd solutions which should have $\\psi(x=0)=0$. For each value of $E$ in *en* we then integrate up to find $\\psi(x=0)$.\n",
    "\n",
    "The new feature here compared to the Infinite Well is that we have to be a little careful about how we start the integration. Since the wave-function can be non-zero outside of the well we start the integration at $x_{left}=-b$. The wavefunction will grow at an exponential rate in the direction of integration until it reaches the well. While we set $\\psi(x_{left}=-b)=0$ it makes sense to set $\\psi'(x_{left}=-b)$ equal to a reasonable estimate of what we might assume it is. Since the distance to the well is $(b-a)$ and since the potential is constant $V(x)=0$ it should be relatively easy to estimate. On the other hand we don't want $\\psi'(x=-b)$ to be too small so we put in a limit that it should not go below 0.00000001. This is necessary, because if we start the *odeint* with values that are too small we might just get numerical noise. Similarly, if we set $\\psi'(x=-b)$ at too large a value then $\\psi$ might reach too large a value for the computer to handle before we reach the well. We need to do this for each energy *e1* we consider so we put our new estimate of *psi0* inside the *for* loop.\n"
   ]
  },
  {
   "cell_type": "code",
   "execution_count": 43,
   "metadata": {
    "ExecuteTime": {
     "end_time": "2023-10-24T00:05:34.799432Z",
     "start_time": "2023-10-24T00:05:34.249618Z"
    }
   },
   "outputs": [],
   "source": [
    "N = 10000                   # number of discrete points on the x-axis\n",
    "a = 1                       # Set the width of the well\n",
    "b = 3*a                     # Set the starting point outside the well for integrating\n",
    "h = b/(N-1)                 # Set the spacing between points on the x-axis\n",
    "V0 = -10.0                  # Set the bottom of the well\n",
    "E = 0                       # initialize the global variable E\n",
    "psi = np.zeros([N,2])       # Wave function values and its derivative (psi and psi')\n",
    "x = linspace(-b, 0, N)      # the points on the x-axis between left wall of the well and x=0\n",
    "Emax = -0.1 \n",
    "Ebottom = V0                # let us only look for solutions between Ebottom and Emax\n",
    "en = linspace(Ebottom, Emax, 1000) # A number of discrete energies where we will calculate psi(x=0)\n",
    "psi_b = []                  # vector of wave function at x = 0 for all of the energies in en\n",
    "for e1 in en:\n",
    "    kappa = sqrt(-2*e1)\n",
    "    psiprime=kappa*np.exp(-kappa*abs(b-a))\n",
    "    psiprime=max(psiprime,0.00000001)\n",
    "    psi0 = array([0,psiprime])\n",
    "    psi_b.append(Wave_function(e1))     # Determine psi(x=0) for every e1 in en"
   ]
  },
  {
   "cell_type": "code",
   "execution_count": 44,
   "metadata": {
    "ExecuteTime": {
     "end_time": "2023-10-24T00:05:35.691354Z",
     "start_time": "2023-10-24T00:05:35.636532Z"
    }
   },
   "outputs": [
    {
     "data": {
      "text/plain": "<Figure size 640x480 with 1 Axes>",
      "image/png": "[encoded data removed]"
     },
     "metadata": {},
     "output_type": "display_data"
    }
   ],
   "source": [
    "plt.plot(en, psi_b, 'r-')\n",
    "plt.xlabel(r'$E$',size=20)\n",
    "plt.ylabel(r'$\\psi(x=0)$',size=20)\n",
    "plt.grid(True)\n",
    "plt.ylim(-3,2)\n",
    "plt.show()"
   ]
  },
  {
   "cell_type": "markdown",
   "metadata": {},
   "source": [
    "### Finding precise solutions"
   ]
  },
  {
   "cell_type": "markdown",
   "metadata": {},
   "source": [
    "It is a bit hard to read of the exact values of the zeroes on the figure above so we are going to use a python routine, brentq, that will find them more precisely. The routine locates two subsequent values in the array psi_b where there is a sign change and then uses extrapolation techniques to find more precise values for the value of E that gives us a $\\psi(x=0)=0$. This is unchanged from what we did for the Infinite Well."
   ]
  },
  {
   "cell_type": "code",
   "execution_count": 45,
   "metadata": {
    "ExecuteTime": {
     "end_time": "2023-10-24T00:05:38.054443Z",
     "start_time": "2023-10-24T00:05:38.051869Z"
    }
   },
   "outputs": [],
   "source": [
    "def find_all_zeroes(x,y):\n",
    "    all_zeroes = []\n",
    "    s = sign(y)\n",
    "    for i in range(len(y)-1):\n",
    "        if s[i]+s[i+1] == 0:\n",
    "            zero = brentq(Wave_function, x[i], x[i+1])\n",
    "            all_zeroes.append(zero)\n",
    "    return all_zeroes"
   ]
  },
  {
   "cell_type": "markdown",
   "metadata": {},
   "source": [
    "We can now determine all the zeroes in the range up to $E_{max}$ and print them out"
   ]
  },
  {
   "cell_type": "code",
   "execution_count": 46,
   "metadata": {
    "ExecuteTime": {
     "end_time": "2023-10-24T00:05:39.967496Z",
     "start_time": "2023-10-24T00:05:39.955664Z"
    }
   },
   "outputs": [
    {
     "name": "stdout",
     "output_type": "stream",
     "text": [
      "Energies for the bound states are: \n",
      " -6.7790593\n"
     ]
    }
   ],
   "source": [
    "E_zeroes = find_all_zeroes(en, psi_b)   # now find the precise energies where psi(x=0) = 0 \n",
    "print( \"Energies for the bound states are: \")\n",
    "for E in E_zeroes:\n",
    "        print( '%11.7f' % E)\n",
    "        "
   ]
  },
  {
   "cell_type": "markdown",
   "metadata": {},
   "source": [
    "### Question 1"
   ]
  },
  {
   "cell_type": "markdown",
   "metadata": {},
   "source": [
    "We start by setting $a=10$ and $V_0=-10$. We hope that this is reasonably close to a wide, deep well. Focusing on the odd solutions, compare the first 3 values you get to the approximate values that we derived in class. What is the relative error? Set $a=2$ $V_0=-10$ and focus on the first *even* solution. Compare your result to the expression from Section 2.6 in Griffiths."
   ]
  },
  {
   "cell_type": "markdown",
   "source": [
    "In class, the wide and deep well approached the infinite square well solutions. So we can estimate the first 3 values by using the formula: \n",
    "En + V0 ~= n<sup>2</sup>pi<sup>2</sup>hbar<sup>2</sup>/(2m*(2a)^2)\n",
    " "
   ],
   "metadata": {
    "collapsed": false
   }
  },
  {
   "cell_type": "code",
   "execution_count": 41,
   "outputs": [
    {
     "name": "stdout",
     "output_type": "stream",
     "text": [
      "from notes: -9.987662994498638 from code: -6.779059252272176 error: -0.4733110632055645\n"
     ]
    },
    {
     "ename": "IndexError",
     "evalue": "list index out of range",
     "output_type": "error",
     "traceback": [
      "\u001B[0;31m---------------------------------------------------------------------------\u001B[0m",
      "\u001B[0;31mIndexError\u001B[0m                                Traceback (most recent call last)",
      "Cell \u001B[0;32mIn[41], line 9\u001B[0m\n\u001B[1;32m      7\u001B[0m \u001B[38;5;28;01mfor\u001B[39;00m n \u001B[38;5;129;01min\u001B[39;00m \u001B[38;5;28mrange\u001B[39m(\u001B[38;5;241m1\u001B[39m,\u001B[38;5;241m4\u001B[39m):\n\u001B[1;32m      8\u001B[0m     n0 \u001B[38;5;241m=\u001B[39m (\u001B[38;5;241m2\u001B[39m\u001B[38;5;241m*\u001B[39mn\u001B[38;5;241m-\u001B[39m\u001B[38;5;241m1\u001B[39m)\n\u001B[0;32m----> 9\u001B[0m     \u001B[38;5;28mprint\u001B[39m (\u001B[38;5;124m'\u001B[39m\u001B[38;5;124mfrom notes:\u001B[39m\u001B[38;5;124m'\u001B[39m, griff(n0), \u001B[38;5;124m'\u001B[39m\u001B[38;5;124mfrom code:\u001B[39m\u001B[38;5;124m'\u001B[39m, \u001B[43mE_zeroes\u001B[49m\u001B[43m[\u001B[49m\u001B[43mn\u001B[49m\u001B[38;5;241;43m-\u001B[39;49m\u001B[38;5;241;43m1\u001B[39;49m\u001B[43m]\u001B[49m, \u001B[38;5;124m'\u001B[39m\u001B[38;5;124merror:\u001B[39m\u001B[38;5;124m'\u001B[39m, \u001B[38;5;28mabs\u001B[39m(((n0)\u001B[38;5;241m*\u001B[39mpi\u001B[38;5;241m*\u001B[39mhbar)\u001B[38;5;241m*\u001B[39m\u001B[38;5;241m*\u001B[39m\u001B[38;5;241m2\u001B[39m\u001B[38;5;241m/\u001B[39m(\u001B[38;5;241m2\u001B[39m\u001B[38;5;241m*\u001B[39mm\u001B[38;5;241m*\u001B[39m(\u001B[38;5;241m2\u001B[39m\u001B[38;5;241m*\u001B[39ma)\u001B[38;5;241m*\u001B[39m\u001B[38;5;241m*\u001B[39m\u001B[38;5;241m2\u001B[39m) \u001B[38;5;241m+\u001B[39m V0 \u001B[38;5;241m-\u001B[39m E_zeroes[n\u001B[38;5;241m-\u001B[39m\u001B[38;5;241m1\u001B[39m])\u001B[38;5;241m/\u001B[39mE_zeroes[n\u001B[38;5;241m-\u001B[39m\u001B[38;5;241m1\u001B[39m])\n",
      "\u001B[0;31mIndexError\u001B[0m: list index out of range"
     ]
    }
   ],
   "source": [
    "hbar = 1\n",
    "m = 1\n",
    "a = 10\n",
    "V0 = -10\n",
    "def griff(n):\n",
    "    return (n*pi*hbar)**2/(2*m*(2*a)**2) + V0\n",
    "for n in range(1,4):\n",
    "    n0 = (2*n-1)\n",
    "    print ('from notes:', griff(n0), 'from code:', E_zeroes[n-1], 'error:', abs(((n0)*pi*hbar)**2/(2*m*(2*a)**2) + V0 - E_zeroes[n-1])/E_zeroes[n-1])\n"
   ],
   "metadata": {
    "collapsed": false,
    "ExecuteTime": {
     "end_time": "2023-10-24T00:05:03.962502Z",
     "start_time": "2023-10-24T00:05:03.919197Z"
    }
   }
  },
  {
   "cell_type": "code",
   "execution_count": null,
   "outputs": [],
   "source": [
    "print('even sol:')\n",
    "a = 2\n",
    "n = 1\n",
    "print ('from notes:', ((n)*pi*hbar)**2/(2*m*(2*a)**2) + V0, 'from code:', E_zeroes[n-1], 'error:', abs(((n)*pi*hbar)**2/(2*m*(2*a)**2) + V0 - E_zeroes[n-1])/E_zeroes[n-1])"
   ],
   "metadata": {
    "collapsed": false,
    "ExecuteTime": {
     "start_time": "2023-10-24T00:05:03.923276Z"
    }
   }
  },
  {
   "cell_type": "markdown",
   "metadata": {},
   "source": [
    "With the precise energy values determined we can look at the wavefunctions. Since in this case we want the wavefunction not only in the well but also outside of it, we set the x-axis to be from -b to 0. You might ask why we don't set it to go from -b to b. The problem with that is that it won't really work when $x>a$ because routines like *odeint* struggle to work if we choose a direction where the solution we're looking for is **exponentially decreasing**. At some point *odeint* will instead start to pick up the solutions to Schr&ouml;dinger's equation that are **exponentially increasing**. Mathematically that is a solution to the differential equation as well, but it is unphysical, so we throw it away. Unfortunately, the computer does not know about that. On the other hand this is pretty easy to fix since we know that the solutions are either even or odd. So, we can simply copy the solution we have for $x<0$, reverse it, and use it for $x>0$. That explains the extra lines with *psil*, *psir* and *psilr*. Reversing the elements in an array is easy to do by using *psil[N-1,0,-1]*, where we skip the last element of *psil* since that corresponds to $x=0$. Also note that, when we look at the odd solutions we have to put in a minus sign when we copy over *psil* to form *psir*. The final result is *psilr* which goes all the way from -b to b."
   ]
  },
  {
   "cell_type": "code",
   "execution_count": 83,
   "metadata": {
    "ExecuteTime": {
     "end_time": "2023-10-24T00:28:10.393408Z",
     "start_time": "2023-10-24T00:28:10.303475Z"
    }
   },
   "outputs": [
    {
     "data": {
      "text/plain": "<Figure size 640x480 with 1 Axes>",
      "image/png": "[encoded data removed]"
     },
     "metadata": {},
     "output_type": "display_data"
    }
   ],
   "source": [
    "x = linspace(-b, 0, N)\n",
    "xall =linspace(-b,b,2*N-1)\n",
    "h=b/(N-1)\n",
    "for E in E_zeroes[0:1]:\n",
    "        Wave_function(E)\n",
    "        psil = psi[:,0]\n",
    "        psir = -psil[N-1:0:-1]\n",
    "        psilr = np.append(psil,psir)\n",
    "        psilr=psilr/sqrt(h*np.sum(np.square(psilr)))\n",
    "        plt.plot(xall, psilr, label=\"E = %.2f\"%E)\n",
    "\n",
    "#ignore this shit yo        \n",
    "#xstuff = linspace(-1.5,-1,1000)        \n",
    "#def func(x):\n",
    "#    return ((0.2/0.5)*x)+0.6\n",
    "#plt.plot(xstuff,func(xstuff),label=\"V(x)\")\n",
    "\n",
    "plt.xlabel(r'$x$',size=20)\n",
    "plt.ylabel(r'$\\psi(x)$',size=20)\n",
    "plt.legend()\n",
    "plt.grid(True)\n",
    "plt.show()"
   ]
  },
  {
   "cell_type": "markdown",
   "metadata": {},
   "source": [
    "### Question 2"
   ]
  },
  {
   "cell_type": "markdown",
   "metadata": {},
   "source": [
    "Now let us look at a well that is much more narrow well by setting a=1. Since the well is quite narrow we might expect significant 'leaking' of the wavefunction outside the well. Therefore, set b=3a. Let us focus on the first odd state. We want to determine $\\int_{-b}^{-a}|\\psi(x)|^2dx+\\int_a^b|\\psi(x)|^2dx$, the probability for being outside the well. \n",
    "Since we assume that the entire normalized wavefunction between $x=-b$ and $x=b$ is in *psilr* we can do this easily by defining a new function which takes the value *psilr* outside the well (where *abs(xall)>0*), and a value of zero inside the well. This is the first line below. Complete the single line necessary to actually determine the desired probability. What you need is similar to what is done above."
   ]
  },
  {
   "cell_type": "code",
   "execution_count": 62,
   "metadata": {
    "scrolled": true,
    "ExecuteTime": {
     "end_time": "2023-10-24T00:17:51.834167Z",
     "start_time": "2023-10-24T00:17:51.824908Z"
    }
   },
   "outputs": [
    {
     "name": "stdout",
     "output_type": "stream",
     "text": [
      "Probability outside well:   0.0687914\n"
     ]
    }
   ],
   "source": [
    "psioutside=np.where(abs(xall)>a,psilr,0)\n",
    "proba = sum((psioutside**2)*h)   \n",
    "print('Probability outside well: %11.7f' % proba)"
   ]
  },
  {
   "cell_type": "code",
   "execution_count": 62,
   "metadata": {
    "ExecuteTime": {
     "end_time": "2023-10-24T00:17:56.128293Z",
     "start_time": "2023-10-24T00:17:56.123986Z"
    }
   },
   "outputs": [],
   "source": []
  }
 ],
 "metadata": {
  "kernelspec": {
   "display_name": "Python 3 (ipykernel)",
   "language": "python",
   "name": "python3"
  },
  "language_info": {
   "codemirror_mode": {
    "name": "ipython",
    "version": 3
   },
   "file_extension": ".py",
   "mimetype": "text/x-python",
   "name": "python",
   "nbconvert_exporter": "python",
   "pygments_lexer": "ipython3",
   "version": "3.11.4"
  }
 },
 "nbformat": 4,
 "nbformat_minor": 4
}
